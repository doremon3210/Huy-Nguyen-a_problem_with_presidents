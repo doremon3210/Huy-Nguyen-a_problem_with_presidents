{
 "cells": [
  {
   "cell_type": "code",
   "execution_count": 54,
   "metadata": {},
   "outputs": [],
   "source": [
    "import warnings\n",
    "warnings.filterwarnings('ignore')"
   ]
  },
  {
   "cell_type": "code",
   "execution_count": 55,
   "metadata": {},
   "outputs": [],
   "source": [
    "import pandas as pd\n",
    "import numpy as np\n",
    "from datetime import datetime\n",
    "import matplotlib.pyplot as plt"
   ]
  },
  {
   "attachments": {},
   "cell_type": "markdown",
   "metadata": {},
   "source": [
    "Import data"
   ]
  },
  {
   "cell_type": "code",
   "execution_count": 56,
   "metadata": {},
   "outputs": [],
   "source": [
    "df = pd.read_csv(\"U.S. Presidents Birth and Death Information - Sheet1.csv\")"
   ]
  },
  {
   "cell_type": "code",
   "execution_count": 57,
   "metadata": {},
   "outputs": [
    {
     "data": {
      "text/html": [
       "<div>\n",
       "<style scoped>\n",
       "    .dataframe tbody tr th:only-of-type {\n",
       "        vertical-align: middle;\n",
       "    }\n",
       "\n",
       "    .dataframe tbody tr th {\n",
       "        vertical-align: top;\n",
       "    }\n",
       "\n",
       "    .dataframe thead th {\n",
       "        text-align: right;\n",
       "    }\n",
       "</style>\n",
       "<table border=\"1\" class=\"dataframe\">\n",
       "  <thead>\n",
       "    <tr style=\"text-align: right;\">\n",
       "      <th></th>\n",
       "      <th>PRESIDENT</th>\n",
       "      <th>BIRTH DATE</th>\n",
       "      <th>BIRTH PLACE</th>\n",
       "      <th>DEATH DATE</th>\n",
       "      <th>LOCATION OF DEATH</th>\n",
       "    </tr>\n",
       "  </thead>\n",
       "  <tbody>\n",
       "    <tr>\n",
       "      <th>0</th>\n",
       "      <td>George Washington</td>\n",
       "      <td>Feb 22, 1732</td>\n",
       "      <td>Westmoreland Co., Va.</td>\n",
       "      <td>Dec 14, 1799</td>\n",
       "      <td>Mount Vernon, Va.</td>\n",
       "    </tr>\n",
       "    <tr>\n",
       "      <th>1</th>\n",
       "      <td>John Adams</td>\n",
       "      <td>Oct 30, 1735</td>\n",
       "      <td>Quincy, Mass.</td>\n",
       "      <td>July 4, 1826</td>\n",
       "      <td>Quincy, Mass.</td>\n",
       "    </tr>\n",
       "    <tr>\n",
       "      <th>2</th>\n",
       "      <td>Thomas Jefferson</td>\n",
       "      <td>Apr 13, 1743</td>\n",
       "      <td>Albemarle Co., Va.</td>\n",
       "      <td>July 4, 1826</td>\n",
       "      <td>Albemarle Co., Va.</td>\n",
       "    </tr>\n",
       "    <tr>\n",
       "      <th>3</th>\n",
       "      <td>James Madison</td>\n",
       "      <td>Mar 16, 1751</td>\n",
       "      <td>Port Conway, Va.</td>\n",
       "      <td>June 28, 1836</td>\n",
       "      <td>Orange Co., Va.</td>\n",
       "    </tr>\n",
       "    <tr>\n",
       "      <th>4</th>\n",
       "      <td>James Monroe</td>\n",
       "      <td>Apr 28, 1758</td>\n",
       "      <td>Westmoreland Co., Va.</td>\n",
       "      <td>July 4, 1831</td>\n",
       "      <td>New York, New York</td>\n",
       "    </tr>\n",
       "  </tbody>\n",
       "</table>\n",
       "</div>"
      ],
      "text/plain": [
       "           PRESIDENT    BIRTH DATE            BIRTH PLACE     DEATH DATE  \\\n",
       "0  George Washington  Feb 22, 1732  Westmoreland Co., Va.   Dec 14, 1799   \n",
       "1         John Adams  Oct 30, 1735          Quincy, Mass.   July 4, 1826   \n",
       "2   Thomas Jefferson  Apr 13, 1743     Albemarle Co., Va.   July 4, 1826   \n",
       "3      James Madison  Mar 16, 1751       Port Conway, Va.  June 28, 1836   \n",
       "4       James Monroe  Apr 28, 1758  Westmoreland Co., Va.   July 4, 1831   \n",
       "\n",
       "    LOCATION OF DEATH  \n",
       "0   Mount Vernon, Va.  \n",
       "1       Quincy, Mass.  \n",
       "2  Albemarle Co., Va.  \n",
       "3     Orange Co., Va.  \n",
       "4  New York, New York  "
      ]
     },
     "execution_count": 57,
     "metadata": {},
     "output_type": "execute_result"
    }
   ],
   "source": [
    "df.head()"
   ]
  },
  {
   "attachments": {},
   "cell_type": "markdown",
   "metadata": {},
   "source": [
    "Change BIRTH DATE and DEATH DATE to datetime data type"
   ]
  },
  {
   "cell_type": "code",
   "execution_count": 58,
   "metadata": {},
   "outputs": [
    {
     "data": {
      "text/plain": [
       "PRESIDENT            object\n",
       "BIRTH DATE           object\n",
       "BIRTH PLACE          object\n",
       "DEATH DATE           object\n",
       "LOCATION OF DEATH    object\n",
       "dtype: object"
      ]
     },
     "execution_count": 58,
     "metadata": {},
     "output_type": "execute_result"
    }
   ],
   "source": [
    "df.dtypes"
   ]
  },
  {
   "cell_type": "code",
   "execution_count": 59,
   "metadata": {},
   "outputs": [],
   "source": [
    "df['BIRTH DATE'] = pd.to_datetime(df['BIRTH DATE'])\n",
    "df['DEATH DATE'] = pd.to_datetime(df['DEATH DATE'])"
   ]
  },
  {
   "cell_type": "code",
   "execution_count": 60,
   "metadata": {},
   "outputs": [
    {
     "data": {
      "text/html": [
       "<div>\n",
       "<style scoped>\n",
       "    .dataframe tbody tr th:only-of-type {\n",
       "        vertical-align: middle;\n",
       "    }\n",
       "\n",
       "    .dataframe tbody tr th {\n",
       "        vertical-align: top;\n",
       "    }\n",
       "\n",
       "    .dataframe thead th {\n",
       "        text-align: right;\n",
       "    }\n",
       "</style>\n",
       "<table border=\"1\" class=\"dataframe\">\n",
       "  <thead>\n",
       "    <tr style=\"text-align: right;\">\n",
       "      <th></th>\n",
       "      <th>PRESIDENT</th>\n",
       "      <th>BIRTH DATE</th>\n",
       "      <th>BIRTH PLACE</th>\n",
       "      <th>DEATH DATE</th>\n",
       "      <th>LOCATION OF DEATH</th>\n",
       "    </tr>\n",
       "  </thead>\n",
       "  <tbody>\n",
       "    <tr>\n",
       "      <th>0</th>\n",
       "      <td>George Washington</td>\n",
       "      <td>1732-02-22</td>\n",
       "      <td>Westmoreland Co., Va.</td>\n",
       "      <td>1799-12-14</td>\n",
       "      <td>Mount Vernon, Va.</td>\n",
       "    </tr>\n",
       "    <tr>\n",
       "      <th>1</th>\n",
       "      <td>John Adams</td>\n",
       "      <td>1735-10-30</td>\n",
       "      <td>Quincy, Mass.</td>\n",
       "      <td>1826-07-04</td>\n",
       "      <td>Quincy, Mass.</td>\n",
       "    </tr>\n",
       "    <tr>\n",
       "      <th>2</th>\n",
       "      <td>Thomas Jefferson</td>\n",
       "      <td>1743-04-13</td>\n",
       "      <td>Albemarle Co., Va.</td>\n",
       "      <td>1826-07-04</td>\n",
       "      <td>Albemarle Co., Va.</td>\n",
       "    </tr>\n",
       "    <tr>\n",
       "      <th>3</th>\n",
       "      <td>James Madison</td>\n",
       "      <td>1751-03-16</td>\n",
       "      <td>Port Conway, Va.</td>\n",
       "      <td>1836-06-28</td>\n",
       "      <td>Orange Co., Va.</td>\n",
       "    </tr>\n",
       "    <tr>\n",
       "      <th>4</th>\n",
       "      <td>James Monroe</td>\n",
       "      <td>1758-04-28</td>\n",
       "      <td>Westmoreland Co., Va.</td>\n",
       "      <td>1831-07-04</td>\n",
       "      <td>New York, New York</td>\n",
       "    </tr>\n",
       "  </tbody>\n",
       "</table>\n",
       "</div>"
      ],
      "text/plain": [
       "           PRESIDENT BIRTH DATE            BIRTH PLACE DEATH DATE  \\\n",
       "0  George Washington 1732-02-22  Westmoreland Co., Va. 1799-12-14   \n",
       "1         John Adams 1735-10-30          Quincy, Mass. 1826-07-04   \n",
       "2   Thomas Jefferson 1743-04-13     Albemarle Co., Va. 1826-07-04   \n",
       "3      James Madison 1751-03-16       Port Conway, Va. 1836-06-28   \n",
       "4       James Monroe 1758-04-28  Westmoreland Co., Va. 1831-07-04   \n",
       "\n",
       "    LOCATION OF DEATH  \n",
       "0   Mount Vernon, Va.  \n",
       "1       Quincy, Mass.  \n",
       "2  Albemarle Co., Va.  \n",
       "3     Orange Co., Va.  \n",
       "4  New York, New York  "
      ]
     },
     "execution_count": 60,
     "metadata": {},
     "output_type": "execute_result"
    }
   ],
   "source": [
    "df.head()"
   ]
  },
  {
   "attachments": {},
   "cell_type": "markdown",
   "metadata": {},
   "source": [
    "Assign new dataframe that drop the last row"
   ]
  },
  {
   "cell_type": "code",
   "execution_count": 61,
   "metadata": {},
   "outputs": [],
   "source": [
    "df_presidents = df[:-1]"
   ]
  },
  {
   "cell_type": "code",
   "execution_count": 62,
   "metadata": {},
   "outputs": [
    {
     "data": {
      "text/plain": [
       "6"
      ]
     },
     "execution_count": 62,
     "metadata": {},
     "output_type": "execute_result"
    }
   ],
   "source": [
    "df_presidents['DEATH DATE'].isna().sum()"
   ]
  },
  {
   "cell_type": "code",
   "execution_count": 63,
   "metadata": {},
   "outputs": [
    {
     "data": {
      "text/html": [
       "<div>\n",
       "<style scoped>\n",
       "    .dataframe tbody tr th:only-of-type {\n",
       "        vertical-align: middle;\n",
       "    }\n",
       "\n",
       "    .dataframe tbody tr th {\n",
       "        vertical-align: top;\n",
       "    }\n",
       "\n",
       "    .dataframe thead th {\n",
       "        text-align: right;\n",
       "    }\n",
       "</style>\n",
       "<table border=\"1\" class=\"dataframe\">\n",
       "  <thead>\n",
       "    <tr style=\"text-align: right;\">\n",
       "      <th></th>\n",
       "      <th>PRESIDENT</th>\n",
       "      <th>BIRTH DATE</th>\n",
       "      <th>BIRTH PLACE</th>\n",
       "      <th>DEATH DATE</th>\n",
       "      <th>LOCATION OF DEATH</th>\n",
       "    </tr>\n",
       "  </thead>\n",
       "  <tbody>\n",
       "    <tr>\n",
       "      <th>39</th>\n",
       "      <td>George Bush</td>\n",
       "      <td>1924-06-12</td>\n",
       "      <td>Milton, Mass.</td>\n",
       "      <td>2018-11-30</td>\n",
       "      <td>Houston, Texas</td>\n",
       "    </tr>\n",
       "    <tr>\n",
       "      <th>40</th>\n",
       "      <td>Bill Clinton</td>\n",
       "      <td>1946-08-19</td>\n",
       "      <td>Hope, Arkansas</td>\n",
       "      <td>NaT</td>\n",
       "      <td>NaN</td>\n",
       "    </tr>\n",
       "    <tr>\n",
       "      <th>41</th>\n",
       "      <td>George W. Bush</td>\n",
       "      <td>1946-07-06</td>\n",
       "      <td>New Haven, Conn.</td>\n",
       "      <td>NaT</td>\n",
       "      <td>NaN</td>\n",
       "    </tr>\n",
       "    <tr>\n",
       "      <th>42</th>\n",
       "      <td>Barack Obama</td>\n",
       "      <td>1961-08-04</td>\n",
       "      <td>Honolulu, Hawaii</td>\n",
       "      <td>NaT</td>\n",
       "      <td>NaN</td>\n",
       "    </tr>\n",
       "    <tr>\n",
       "      <th>43</th>\n",
       "      <td>Donald Trump</td>\n",
       "      <td>1946-06-14</td>\n",
       "      <td>New York, New York</td>\n",
       "      <td>NaT</td>\n",
       "      <td>NaN</td>\n",
       "    </tr>\n",
       "    <tr>\n",
       "      <th>44</th>\n",
       "      <td>Joe Biden</td>\n",
       "      <td>1942-11-20</td>\n",
       "      <td>Scranton, Pa.</td>\n",
       "      <td>NaT</td>\n",
       "      <td>NaN</td>\n",
       "    </tr>\n",
       "  </tbody>\n",
       "</table>\n",
       "</div>"
      ],
      "text/plain": [
       "         PRESIDENT BIRTH DATE         BIRTH PLACE DEATH DATE LOCATION OF DEATH\n",
       "39     George Bush 1924-06-12       Milton, Mass. 2018-11-30    Houston, Texas\n",
       "40    Bill Clinton 1946-08-19      Hope, Arkansas        NaT               NaN\n",
       "41  George W. Bush 1946-07-06    New Haven, Conn.        NaT               NaN\n",
       "42    Barack Obama 1961-08-04    Honolulu, Hawaii        NaT               NaN\n",
       "43    Donald Trump 1946-06-14  New York, New York        NaT               NaN\n",
       "44       Joe Biden 1942-11-20       Scranton, Pa.        NaT               NaN"
      ]
     },
     "execution_count": 63,
     "metadata": {},
     "output_type": "execute_result"
    }
   ],
   "source": [
    "df_presidents.tail(6)"
   ]
  },
  {
   "attachments": {},
   "cell_type": "markdown",
   "metadata": {},
   "source": [
    "Create new attributes and do some calculation"
   ]
  },
  {
   "cell_type": "code",
   "execution_count": 64,
   "metadata": {},
   "outputs": [],
   "source": [
    "df_presidents['year_of_birth'] = df_presidents['BIRTH DATE'].dt.year\n",
    "df_presidents['lived_days'] = df_presidents['DEATH DATE'] - df_presidents['BIRTH DATE']\n",
    "df_presidents.loc[df_presidents['lived_days'].isna(), 'lived_days'] = pd.to_datetime('now') - df['BIRTH DATE']\n",
    "df_presidents['lived_years'] = df_presidents['lived_days'] / 365\n",
    "df_presidents['lived_months'] = df_presidents['lived_days'] / 30"
   ]
  },
  {
   "cell_type": "code",
   "execution_count": 65,
   "metadata": {},
   "outputs": [
    {
     "data": {
      "text/html": [
       "<div>\n",
       "<style scoped>\n",
       "    .dataframe tbody tr th:only-of-type {\n",
       "        vertical-align: middle;\n",
       "    }\n",
       "\n",
       "    .dataframe tbody tr th {\n",
       "        vertical-align: top;\n",
       "    }\n",
       "\n",
       "    .dataframe thead th {\n",
       "        text-align: right;\n",
       "    }\n",
       "</style>\n",
       "<table border=\"1\" class=\"dataframe\">\n",
       "  <thead>\n",
       "    <tr style=\"text-align: right;\">\n",
       "      <th></th>\n",
       "      <th>PRESIDENT</th>\n",
       "      <th>BIRTH DATE</th>\n",
       "      <th>BIRTH PLACE</th>\n",
       "      <th>DEATH DATE</th>\n",
       "      <th>LOCATION OF DEATH</th>\n",
       "      <th>year_of_birth</th>\n",
       "      <th>lived_days</th>\n",
       "      <th>lived_years</th>\n",
       "      <th>lived_months</th>\n",
       "    </tr>\n",
       "  </thead>\n",
       "  <tbody>\n",
       "    <tr>\n",
       "      <th>0</th>\n",
       "      <td>George Washington</td>\n",
       "      <td>1732-02-22</td>\n",
       "      <td>Westmoreland Co., Va.</td>\n",
       "      <td>1799-12-14</td>\n",
       "      <td>Mount Vernon, Va.</td>\n",
       "      <td>1732</td>\n",
       "      <td>24767 days</td>\n",
       "      <td>67 days 20:30:54.246575342</td>\n",
       "      <td>825 days 13:36:00</td>\n",
       "    </tr>\n",
       "    <tr>\n",
       "      <th>1</th>\n",
       "      <td>John Adams</td>\n",
       "      <td>1735-10-30</td>\n",
       "      <td>Quincy, Mass.</td>\n",
       "      <td>1826-07-04</td>\n",
       "      <td>Quincy, Mass.</td>\n",
       "      <td>1735</td>\n",
       "      <td>33119 days</td>\n",
       "      <td>90 days 17:41:15.616438356</td>\n",
       "      <td>1103 days 23:12:00</td>\n",
       "    </tr>\n",
       "    <tr>\n",
       "      <th>2</th>\n",
       "      <td>Thomas Jefferson</td>\n",
       "      <td>1743-04-13</td>\n",
       "      <td>Albemarle Co., Va.</td>\n",
       "      <td>1826-07-04</td>\n",
       "      <td>Albemarle Co., Va.</td>\n",
       "      <td>1743</td>\n",
       "      <td>30397 days</td>\n",
       "      <td>83 days 06:42:24.657534246</td>\n",
       "      <td>1013 days 05:36:00</td>\n",
       "    </tr>\n",
       "    <tr>\n",
       "      <th>3</th>\n",
       "      <td>James Madison</td>\n",
       "      <td>1751-03-16</td>\n",
       "      <td>Port Conway, Va.</td>\n",
       "      <td>1836-06-28</td>\n",
       "      <td>Orange Co., Va.</td>\n",
       "      <td>1751</td>\n",
       "      <td>31150 days</td>\n",
       "      <td>85 days 08:13:09.041095890</td>\n",
       "      <td>1038 days 08:00:00</td>\n",
       "    </tr>\n",
       "    <tr>\n",
       "      <th>4</th>\n",
       "      <td>James Monroe</td>\n",
       "      <td>1758-04-28</td>\n",
       "      <td>Westmoreland Co., Va.</td>\n",
       "      <td>1831-07-04</td>\n",
       "      <td>New York, New York</td>\n",
       "      <td>1758</td>\n",
       "      <td>26729 days</td>\n",
       "      <td>73 days 05:31:23.835616438</td>\n",
       "      <td>890 days 23:12:00</td>\n",
       "    </tr>\n",
       "  </tbody>\n",
       "</table>\n",
       "</div>"
      ],
      "text/plain": [
       "           PRESIDENT BIRTH DATE            BIRTH PLACE DEATH DATE  \\\n",
       "0  George Washington 1732-02-22  Westmoreland Co., Va. 1799-12-14   \n",
       "1         John Adams 1735-10-30          Quincy, Mass. 1826-07-04   \n",
       "2   Thomas Jefferson 1743-04-13     Albemarle Co., Va. 1826-07-04   \n",
       "3      James Madison 1751-03-16       Port Conway, Va. 1836-06-28   \n",
       "4       James Monroe 1758-04-28  Westmoreland Co., Va. 1831-07-04   \n",
       "\n",
       "    LOCATION OF DEATH  year_of_birth lived_days                lived_years  \\\n",
       "0   Mount Vernon, Va.           1732 24767 days 67 days 20:30:54.246575342   \n",
       "1       Quincy, Mass.           1735 33119 days 90 days 17:41:15.616438356   \n",
       "2  Albemarle Co., Va.           1743 30397 days 83 days 06:42:24.657534246   \n",
       "3     Orange Co., Va.           1751 31150 days 85 days 08:13:09.041095890   \n",
       "4  New York, New York           1758 26729 days 73 days 05:31:23.835616438   \n",
       "\n",
       "        lived_months  \n",
       "0  825 days 13:36:00  \n",
       "1 1103 days 23:12:00  \n",
       "2 1013 days 05:36:00  \n",
       "3 1038 days 08:00:00  \n",
       "4  890 days 23:12:00  "
      ]
     },
     "execution_count": 65,
     "metadata": {},
     "output_type": "execute_result"
    }
   ],
   "source": [
    "df_presidents.head()"
   ]
  },
  {
   "attachments": {},
   "cell_type": "markdown",
   "metadata": {},
   "source": [
    "Change new attributes datatype to integer"
   ]
  },
  {
   "cell_type": "code",
   "execution_count": 66,
   "metadata": {},
   "outputs": [],
   "source": [
    "df_presidents['year_of_birth'] = df_presidents['year_of_birth'].astype(int)\n",
    "df_presidents['lived_years'] = df_presidents['lived_years'].dt.days.astype(int)\n",
    "df_presidents['lived_months'] = df_presidents['lived_months'].dt.days.astype(int)\n",
    "df_presidents['lived_days'] = df_presidents['lived_days'].dt.days.astype(int)"
   ]
  },
  {
   "cell_type": "code",
   "execution_count": 67,
   "metadata": {},
   "outputs": [
    {
     "data": {
      "text/plain": [
       "PRESIDENT                    object\n",
       "BIRTH DATE           datetime64[ns]\n",
       "BIRTH PLACE                  object\n",
       "DEATH DATE           datetime64[ns]\n",
       "LOCATION OF DEATH            object\n",
       "year_of_birth                 int32\n",
       "lived_days                    int32\n",
       "lived_years                   int32\n",
       "lived_months                  int32\n",
       "dtype: object"
      ]
     },
     "execution_count": 67,
     "metadata": {},
     "output_type": "execute_result"
    }
   ],
   "source": [
    "df_presidents.dtypes"
   ]
  },
  {
   "attachments": {},
   "cell_type": "markdown",
   "metadata": {},
   "source": [
    "Top 10 longest lived"
   ]
  },
  {
   "cell_type": "code",
   "execution_count": 68,
   "metadata": {},
   "outputs": [
    {
     "data": {
      "text/html": [
       "<div>\n",
       "<style scoped>\n",
       "    .dataframe tbody tr th:only-of-type {\n",
       "        vertical-align: middle;\n",
       "    }\n",
       "\n",
       "    .dataframe tbody tr th {\n",
       "        vertical-align: top;\n",
       "    }\n",
       "\n",
       "    .dataframe thead th {\n",
       "        text-align: right;\n",
       "    }\n",
       "</style>\n",
       "<table border=\"1\" class=\"dataframe\">\n",
       "  <thead>\n",
       "    <tr style=\"text-align: right;\">\n",
       "      <th></th>\n",
       "      <th>PRESIDENT</th>\n",
       "      <th>BIRTH DATE</th>\n",
       "      <th>BIRTH PLACE</th>\n",
       "      <th>DEATH DATE</th>\n",
       "      <th>LOCATION OF DEATH</th>\n",
       "      <th>year_of_birth</th>\n",
       "      <th>lived_days</th>\n",
       "      <th>lived_years</th>\n",
       "      <th>lived_months</th>\n",
       "    </tr>\n",
       "  </thead>\n",
       "  <tbody>\n",
       "    <tr>\n",
       "      <th>0</th>\n",
       "      <td>Jimmy Carter</td>\n",
       "      <td>1924-10-01</td>\n",
       "      <td>Plains, Georgia</td>\n",
       "      <td>NaT</td>\n",
       "      <td>NaN</td>\n",
       "      <td>1924</td>\n",
       "      <td>35868</td>\n",
       "      <td>98</td>\n",
       "      <td>1195</td>\n",
       "    </tr>\n",
       "    <tr>\n",
       "      <th>1</th>\n",
       "      <td>George Bush</td>\n",
       "      <td>1924-06-12</td>\n",
       "      <td>Milton, Mass.</td>\n",
       "      <td>2018-11-30</td>\n",
       "      <td>Houston, Texas</td>\n",
       "      <td>1924</td>\n",
       "      <td>34504</td>\n",
       "      <td>94</td>\n",
       "      <td>1150</td>\n",
       "    </tr>\n",
       "    <tr>\n",
       "      <th>2</th>\n",
       "      <td>Gerald Ford</td>\n",
       "      <td>1913-07-14</td>\n",
       "      <td>Omaha, Nebraska</td>\n",
       "      <td>2006-12-26</td>\n",
       "      <td>Rancho Mirage, Cal.</td>\n",
       "      <td>1913</td>\n",
       "      <td>34133</td>\n",
       "      <td>93</td>\n",
       "      <td>1137</td>\n",
       "    </tr>\n",
       "    <tr>\n",
       "      <th>3</th>\n",
       "      <td>Ronald Reagan</td>\n",
       "      <td>1911-02-06</td>\n",
       "      <td>Tampico, Illinois</td>\n",
       "      <td>2004-06-05</td>\n",
       "      <td>Los Angeles, Cal.</td>\n",
       "      <td>1911</td>\n",
       "      <td>34088</td>\n",
       "      <td>93</td>\n",
       "      <td>1136</td>\n",
       "    </tr>\n",
       "    <tr>\n",
       "      <th>4</th>\n",
       "      <td>John Adams</td>\n",
       "      <td>1735-10-30</td>\n",
       "      <td>Quincy, Mass.</td>\n",
       "      <td>1826-07-04</td>\n",
       "      <td>Quincy, Mass.</td>\n",
       "      <td>1735</td>\n",
       "      <td>33119</td>\n",
       "      <td>90</td>\n",
       "      <td>1103</td>\n",
       "    </tr>\n",
       "    <tr>\n",
       "      <th>5</th>\n",
       "      <td>Herbert Hoover</td>\n",
       "      <td>1874-08-10</td>\n",
       "      <td>West Branch, Iowa</td>\n",
       "      <td>1964-10-20</td>\n",
       "      <td>New York, New York</td>\n",
       "      <td>1874</td>\n",
       "      <td>32943</td>\n",
       "      <td>90</td>\n",
       "      <td>1098</td>\n",
       "    </tr>\n",
       "    <tr>\n",
       "      <th>6</th>\n",
       "      <td>Harry S. Truman</td>\n",
       "      <td>1884-05-08</td>\n",
       "      <td>Lamar, Missouri</td>\n",
       "      <td>1972-12-26</td>\n",
       "      <td>Kansas City, Missouri</td>\n",
       "      <td>1884</td>\n",
       "      <td>32373</td>\n",
       "      <td>88</td>\n",
       "      <td>1079</td>\n",
       "    </tr>\n",
       "    <tr>\n",
       "      <th>7</th>\n",
       "      <td>James Madison</td>\n",
       "      <td>1751-03-16</td>\n",
       "      <td>Port Conway, Va.</td>\n",
       "      <td>1836-06-28</td>\n",
       "      <td>Orange Co., Va.</td>\n",
       "      <td>1751</td>\n",
       "      <td>31150</td>\n",
       "      <td>85</td>\n",
       "      <td>1038</td>\n",
       "    </tr>\n",
       "    <tr>\n",
       "      <th>8</th>\n",
       "      <td>Thomas Jefferson</td>\n",
       "      <td>1743-04-13</td>\n",
       "      <td>Albemarle Co., Va.</td>\n",
       "      <td>1826-07-04</td>\n",
       "      <td>Albemarle Co., Va.</td>\n",
       "      <td>1743</td>\n",
       "      <td>30397</td>\n",
       "      <td>83</td>\n",
       "      <td>1013</td>\n",
       "    </tr>\n",
       "    <tr>\n",
       "      <th>9</th>\n",
       "      <td>Richard Nixon</td>\n",
       "      <td>1913-01-09</td>\n",
       "      <td>Yorba Linda, Cal.</td>\n",
       "      <td>1994-04-22</td>\n",
       "      <td>New York, New York</td>\n",
       "      <td>1913</td>\n",
       "      <td>29688</td>\n",
       "      <td>81</td>\n",
       "      <td>989</td>\n",
       "    </tr>\n",
       "  </tbody>\n",
       "</table>\n",
       "</div>"
      ],
      "text/plain": [
       "          PRESIDENT BIRTH DATE         BIRTH PLACE DEATH DATE  \\\n",
       "0      Jimmy Carter 1924-10-01     Plains, Georgia        NaT   \n",
       "1       George Bush 1924-06-12       Milton, Mass. 2018-11-30   \n",
       "2       Gerald Ford 1913-07-14     Omaha, Nebraska 2006-12-26   \n",
       "3     Ronald Reagan 1911-02-06   Tampico, Illinois 2004-06-05   \n",
       "4        John Adams 1735-10-30       Quincy, Mass. 1826-07-04   \n",
       "5    Herbert Hoover 1874-08-10   West Branch, Iowa 1964-10-20   \n",
       "6   Harry S. Truman 1884-05-08     Lamar, Missouri 1972-12-26   \n",
       "7     James Madison 1751-03-16    Port Conway, Va. 1836-06-28   \n",
       "8  Thomas Jefferson 1743-04-13  Albemarle Co., Va. 1826-07-04   \n",
       "9     Richard Nixon 1913-01-09   Yorba Linda, Cal. 1994-04-22   \n",
       "\n",
       "       LOCATION OF DEATH  year_of_birth  lived_days  lived_years  lived_months  \n",
       "0                    NaN           1924       35868           98          1195  \n",
       "1         Houston, Texas           1924       34504           94          1150  \n",
       "2    Rancho Mirage, Cal.           1913       34133           93          1137  \n",
       "3      Los Angeles, Cal.           1911       34088           93          1136  \n",
       "4          Quincy, Mass.           1735       33119           90          1103  \n",
       "5     New York, New York           1874       32943           90          1098  \n",
       "6  Kansas City, Missouri           1884       32373           88          1079  \n",
       "7        Orange Co., Va.           1751       31150           85          1038  \n",
       "8     Albemarle Co., Va.           1743       30397           83          1013  \n",
       "9     New York, New York           1913       29688           81           989  "
      ]
     },
     "execution_count": 68,
     "metadata": {},
     "output_type": "execute_result"
    }
   ],
   "source": [
    "df_presidents.sort_values(by='lived_days', ascending=False).head(10).reset_index(drop=True)"
   ]
  },
  {
   "attachments": {},
   "cell_type": "markdown",
   "metadata": {},
   "source": [
    "Top 10 shortest lived"
   ]
  },
  {
   "cell_type": "code",
   "execution_count": 69,
   "metadata": {},
   "outputs": [
    {
     "data": {
      "text/html": [
       "<div>\n",
       "<style scoped>\n",
       "    .dataframe tbody tr th:only-of-type {\n",
       "        vertical-align: middle;\n",
       "    }\n",
       "\n",
       "    .dataframe tbody tr th {\n",
       "        vertical-align: top;\n",
       "    }\n",
       "\n",
       "    .dataframe thead th {\n",
       "        text-align: right;\n",
       "    }\n",
       "</style>\n",
       "<table border=\"1\" class=\"dataframe\">\n",
       "  <thead>\n",
       "    <tr style=\"text-align: right;\">\n",
       "      <th></th>\n",
       "      <th>PRESIDENT</th>\n",
       "      <th>BIRTH DATE</th>\n",
       "      <th>BIRTH PLACE</th>\n",
       "      <th>DEATH DATE</th>\n",
       "      <th>LOCATION OF DEATH</th>\n",
       "      <th>year_of_birth</th>\n",
       "      <th>lived_days</th>\n",
       "      <th>lived_years</th>\n",
       "      <th>lived_months</th>\n",
       "    </tr>\n",
       "  </thead>\n",
       "  <tbody>\n",
       "    <tr>\n",
       "      <th>0</th>\n",
       "      <td>John F. Kennedy</td>\n",
       "      <td>1917-05-29</td>\n",
       "      <td>Brookline, Mass.</td>\n",
       "      <td>1963-11-22</td>\n",
       "      <td>Dallas, Texas</td>\n",
       "      <td>1917</td>\n",
       "      <td>16978</td>\n",
       "      <td>46</td>\n",
       "      <td>565</td>\n",
       "    </tr>\n",
       "    <tr>\n",
       "      <th>1</th>\n",
       "      <td>James A. Garfield</td>\n",
       "      <td>1831-11-19</td>\n",
       "      <td>Cuyahoga Co., Ohio</td>\n",
       "      <td>1881-09-19</td>\n",
       "      <td>Elberon, New Jersey</td>\n",
       "      <td>1831</td>\n",
       "      <td>18202</td>\n",
       "      <td>49</td>\n",
       "      <td>606</td>\n",
       "    </tr>\n",
       "    <tr>\n",
       "      <th>2</th>\n",
       "      <td>James K. Polk</td>\n",
       "      <td>1795-11-02</td>\n",
       "      <td>Mecklenburg Co., N.C.</td>\n",
       "      <td>1849-06-15</td>\n",
       "      <td>Nashville, Tennessee</td>\n",
       "      <td>1795</td>\n",
       "      <td>19583</td>\n",
       "      <td>53</td>\n",
       "      <td>652</td>\n",
       "    </tr>\n",
       "    <tr>\n",
       "      <th>3</th>\n",
       "      <td>Abraham Lincoln</td>\n",
       "      <td>1809-02-12</td>\n",
       "      <td>LaRue Co., Kentucky</td>\n",
       "      <td>1865-04-15</td>\n",
       "      <td>Washington, D.C.</td>\n",
       "      <td>1809</td>\n",
       "      <td>20516</td>\n",
       "      <td>56</td>\n",
       "      <td>683</td>\n",
       "    </tr>\n",
       "    <tr>\n",
       "      <th>4</th>\n",
       "      <td>Chester Arthur</td>\n",
       "      <td>1829-10-05</td>\n",
       "      <td>Fairfield, Vermont</td>\n",
       "      <td>1886-11-18</td>\n",
       "      <td>New York, New York</td>\n",
       "      <td>1829</td>\n",
       "      <td>20863</td>\n",
       "      <td>57</td>\n",
       "      <td>695</td>\n",
       "    </tr>\n",
       "    <tr>\n",
       "      <th>5</th>\n",
       "      <td>Warren G. Harding</td>\n",
       "      <td>1865-11-02</td>\n",
       "      <td>Morrow County, Ohio</td>\n",
       "      <td>1923-08-02</td>\n",
       "      <td>San Francisco, Cal.</td>\n",
       "      <td>1865</td>\n",
       "      <td>21091</td>\n",
       "      <td>57</td>\n",
       "      <td>703</td>\n",
       "    </tr>\n",
       "    <tr>\n",
       "      <th>6</th>\n",
       "      <td>William McKinley</td>\n",
       "      <td>1843-01-29</td>\n",
       "      <td>Niles, Ohio</td>\n",
       "      <td>1901-09-14</td>\n",
       "      <td>Buffalo, New York</td>\n",
       "      <td>1843</td>\n",
       "      <td>21412</td>\n",
       "      <td>58</td>\n",
       "      <td>713</td>\n",
       "    </tr>\n",
       "    <tr>\n",
       "      <th>7</th>\n",
       "      <td>Theodore Roosevelt</td>\n",
       "      <td>1858-10-27</td>\n",
       "      <td>New York, New York</td>\n",
       "      <td>1919-01-06</td>\n",
       "      <td>Oyster Bay, New York</td>\n",
       "      <td>1858</td>\n",
       "      <td>21985</td>\n",
       "      <td>60</td>\n",
       "      <td>732</td>\n",
       "    </tr>\n",
       "    <tr>\n",
       "      <th>8</th>\n",
       "      <td>Calvin Coolidge</td>\n",
       "      <td>1872-07-04</td>\n",
       "      <td>Plymouth, Vermont</td>\n",
       "      <td>1933-01-05</td>\n",
       "      <td>Northampton, Mass.</td>\n",
       "      <td>1872</td>\n",
       "      <td>22099</td>\n",
       "      <td>60</td>\n",
       "      <td>736</td>\n",
       "    </tr>\n",
       "    <tr>\n",
       "      <th>9</th>\n",
       "      <td>Barack Obama</td>\n",
       "      <td>1961-08-04</td>\n",
       "      <td>Honolulu, Hawaii</td>\n",
       "      <td>NaT</td>\n",
       "      <td>NaN</td>\n",
       "      <td>1961</td>\n",
       "      <td>22412</td>\n",
       "      <td>61</td>\n",
       "      <td>747</td>\n",
       "    </tr>\n",
       "  </tbody>\n",
       "</table>\n",
       "</div>"
      ],
      "text/plain": [
       "            PRESIDENT BIRTH DATE            BIRTH PLACE DEATH DATE  \\\n",
       "0     John F. Kennedy 1917-05-29       Brookline, Mass. 1963-11-22   \n",
       "1   James A. Garfield 1831-11-19     Cuyahoga Co., Ohio 1881-09-19   \n",
       "2       James K. Polk 1795-11-02  Mecklenburg Co., N.C. 1849-06-15   \n",
       "3     Abraham Lincoln 1809-02-12    LaRue Co., Kentucky 1865-04-15   \n",
       "4      Chester Arthur 1829-10-05     Fairfield, Vermont 1886-11-18   \n",
       "5   Warren G. Harding 1865-11-02    Morrow County, Ohio 1923-08-02   \n",
       "6    William McKinley 1843-01-29            Niles, Ohio 1901-09-14   \n",
       "7  Theodore Roosevelt 1858-10-27     New York, New York 1919-01-06   \n",
       "8     Calvin Coolidge 1872-07-04      Plymouth, Vermont 1933-01-05   \n",
       "9        Barack Obama 1961-08-04       Honolulu, Hawaii        NaT   \n",
       "\n",
       "      LOCATION OF DEATH  year_of_birth  lived_days  lived_years  lived_months  \n",
       "0         Dallas, Texas           1917       16978           46           565  \n",
       "1   Elberon, New Jersey           1831       18202           49           606  \n",
       "2  Nashville, Tennessee           1795       19583           53           652  \n",
       "3      Washington, D.C.           1809       20516           56           683  \n",
       "4    New York, New York           1829       20863           57           695  \n",
       "5   San Francisco, Cal.           1865       21091           57           703  \n",
       "6     Buffalo, New York           1843       21412           58           713  \n",
       "7  Oyster Bay, New York           1858       21985           60           732  \n",
       "8    Northampton, Mass.           1872       22099           60           736  \n",
       "9                   NaN           1961       22412           61           747  "
      ]
     },
     "execution_count": 69,
     "metadata": {},
     "output_type": "execute_result"
    }
   ],
   "source": [
    "df_presidents.sort_values(by='lived_days').head(10).reset_index(drop=True)"
   ]
  },
  {
   "attachments": {},
   "cell_type": "markdown",
   "metadata": {},
   "source": [
    "Descriptive statistics"
   ]
  },
  {
   "cell_type": "code",
   "execution_count": 70,
   "metadata": {},
   "outputs": [
    {
     "data": {
      "text/plain": [
       "count    45.000000\n",
       "mean     71.933333\n",
       "std      12.606636\n",
       "min      46.000000\n",
       "25%      63.000000\n",
       "50%      71.000000\n",
       "75%      80.000000\n",
       "max      98.000000\n",
       "Name: lived_years, dtype: float64"
      ]
     },
     "execution_count": 70,
     "metadata": {},
     "output_type": "execute_result"
    }
   ],
   "source": [
    "df_presidents['lived_years'].describe()"
   ]
  },
  {
   "cell_type": "code",
   "execution_count": 71,
   "metadata": {},
   "outputs": [
    {
     "data": {
      "text/plain": [
       "count       45.000000\n",
       "mean     26423.377778\n",
       "std       4589.418320\n",
       "min      16978.000000\n",
       "25%      23098.000000\n",
       "50%      26227.000000\n",
       "75%      29244.000000\n",
       "max      35868.000000\n",
       "Name: lived_days, dtype: float64"
      ]
     },
     "execution_count": 71,
     "metadata": {},
     "output_type": "execute_result"
    }
   ],
   "source": [
    "df_presidents['lived_days'].describe()"
   ]
  },
  {
   "cell_type": "code",
   "execution_count": 72,
   "metadata": {},
   "outputs": [],
   "source": [
    "mean = df_presidents['lived_days'].mean()\n",
    "weighted_average = np.average(a=df_presidents['lived_days'], weights=df_presidents['lived_years'])\n",
    "median = df_presidents['lived_days'].median()\n",
    "mode = ', '.join(str(x) for x in df_presidents['lived_days'].mode().to_list())\n",
    "max_day = df_presidents['lived_days'].max()\n",
    "min_day = df_presidents['lived_days'].min()\n",
    "std = df_presidents['lived_days'].std()"
   ]
  },
  {
   "cell_type": "code",
   "execution_count": 73,
   "metadata": {},
   "outputs": [],
   "source": [
    "calculate = {'Mean': mean,\n",
    "    'Weighted average': weighted_average,\n",
    "    'Median': median, \n",
    "    'Mode': mode, \n",
    "    'Max': max_day, \n",
    "    'Min': min_day, \n",
    "    'Standard deviation': std}"
   ]
  },
  {
   "cell_type": "code",
   "execution_count": 74,
   "metadata": {},
   "outputs": [],
   "source": [
    "df_calculate = pd.DataFrame(calculate, index=['lived_days'])"
   ]
  },
  {
   "cell_type": "code",
   "execution_count": 75,
   "metadata": {},
   "outputs": [
    {
     "data": {
      "text/html": [
       "<div>\n",
       "<style scoped>\n",
       "    .dataframe tbody tr th:only-of-type {\n",
       "        vertical-align: middle;\n",
       "    }\n",
       "\n",
       "    .dataframe tbody tr th {\n",
       "        vertical-align: top;\n",
       "    }\n",
       "\n",
       "    .dataframe thead th {\n",
       "        text-align: right;\n",
       "    }\n",
       "</style>\n",
       "<table border=\"1\" class=\"dataframe\">\n",
       "  <thead>\n",
       "    <tr style=\"text-align: right;\">\n",
       "      <th></th>\n",
       "      <th>Mean</th>\n",
       "      <th>Weighted average</th>\n",
       "      <th>Median</th>\n",
       "      <th>Mode</th>\n",
       "      <th>Max</th>\n",
       "      <th>Min</th>\n",
       "      <th>Standard deviation</th>\n",
       "    </tr>\n",
       "  </thead>\n",
       "  <tbody>\n",
       "    <tr>\n",
       "      <th>lived_days</th>\n",
       "      <td>26423.377778</td>\n",
       "      <td>27209.697251</td>\n",
       "      <td>26227.0</td>\n",
       "      <td>16978, 18202, 19583, 20516, 20863, 21091, 2141...</td>\n",
       "      <td>35868</td>\n",
       "      <td>16978</td>\n",
       "      <td>4589.41832</td>\n",
       "    </tr>\n",
       "  </tbody>\n",
       "</table>\n",
       "</div>"
      ],
      "text/plain": [
       "                    Mean  Weighted average   Median  \\\n",
       "lived_days  26423.377778      27209.697251  26227.0   \n",
       "\n",
       "                                                         Mode    Max    Min  \\\n",
       "lived_days  16978, 18202, 19583, 20516, 20863, 21091, 2141...  35868  16978   \n",
       "\n",
       "            Standard deviation  \n",
       "lived_days          4589.41832  "
      ]
     },
     "execution_count": 75,
     "metadata": {},
     "output_type": "execute_result"
    }
   ],
   "source": [
    "df_calculate"
   ]
  },
  {
   "attachments": {},
   "cell_type": "markdown",
   "metadata": {},
   "source": [
    "Plot the above data"
   ]
  },
  {
   "cell_type": "code",
   "execution_count": 76,
   "metadata": {},
   "outputs": [
    {
     "data": {
      "text/plain": [
       "<matplotlib.legend.Legend at 0x1cce894a820>"
      ]
     },
     "execution_count": 76,
     "metadata": {},
     "output_type": "execute_result"
    },
    {
     "data": {
      "image/png": "[encoded data removed]",
      "text/plain": [
       "<Figure size 432x288 with 1 Axes>"
      ]
     },
     "metadata": {
      "needs_background": "light"
     },
     "output_type": "display_data"
    }
   ],
   "source": [
    "plt.bar(x=['Min', 'Median', 'Max'], height=[min_day, median, max_day])\n",
    "plt.axhline(mean, marker='o', linestyle='dashed', color='red', label='Mean')\n",
    "plt.axhline(weighted_average, marker='o', linestyle='dashed', color='purple', label='Weighted average')\n",
    "plt.axhline(std, marker='o', linestyle='dashed', color='yellow', label='Standard deviation')\n",
    "plt.legend(labels=['Mean', 'Weighted average', 'Standard deviation'])"
   ]
  },
  {
   "cell_type": "code",
   "execution_count": null,
   "metadata": {},
   "outputs": [],
   "source": []
  }
 ],
 "metadata": {
  "kernelspec": {
   "display_name": "Python 3.9.7 ('base')",
   "language": "python",
   "name": "python3"
  },
  "language_info": {
   "codemirror_mode": {
    "name": "ipython",
    "version": 3
   },
   "file_extension": ".py",
   "mimetype": "text/x-python",
   "name": "python",
   "nbconvert_exporter": "python",
   "pygments_lexer": "ipython3",
   "version": "3.9.7"
  },
  "orig_nbformat": 4,
  "vscode": {
   "interpreter": {
    "hash": "8b667e66ee808e1c98de6a945fed5de5251b911f7dc0292c79b7eebe5c68df87"
   }
  }
 },
 "nbformat": 4,
 "nbformat_minor": 2
}
